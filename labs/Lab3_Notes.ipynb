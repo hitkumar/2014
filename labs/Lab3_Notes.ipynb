{
 "metadata": {
  "name": "",
  "signature": "sha256:2f9b69e9da4e07b19e0423fe85ded9df42c2103f366fecf7f9815c9be19a2845"
 },
 "nbformat": 3,
 "nbformat_minor": 0,
 "worksheets": [
  {
   "cells": [
    {
     "cell_type": "code",
     "collapsed": false,
     "input": [
      "# special IPython command to prepare the notebook for matplotlib\n",
      "%matplotlib inline \n",
      "\n",
      "import pandas as pd\n",
      "import matplotlib.pyplot as plt\n",
      "\n",
      "pd.options.display.mpl_style = 'default'\n",
      "print \"CheckCheck\""
     ],
     "language": "python",
     "metadata": {},
     "outputs": [
      {
       "output_type": "stream",
       "stream": "stdout",
       "text": [
        "CheckCheck\n"
       ]
      }
     ],
     "prompt_number": 57
    },
    {
     "cell_type": "markdown",
     "metadata": {},
     "source": [
      "## Recall from from lab last week 09/12/2014\n",
      "\n",
      "Previously discussed: \n",
      "\n",
      "* Reading in a CSV file into a pandas DataFrame\n",
      "* Using histograms, scatterplots and boxplots as exploratory data analysis\n",
      "* Summary statistics\n",
      "* Functions to access a pandas DataFrame\n",
      "* Defining your own functions and using loops"
     ]
    },
    {
     "cell_type": "markdown",
     "metadata": {},
     "source": [
      "## Today, we will discuss the following:\n",
      "* Brief introduction to Numpy, Scipy\n",
      "    * Vectorizing functions\n",
      "* More pandas and matplotlib\n",
      "* Working in the command line\n",
      "* Overview of git and Github\n",
      "\n",
      "<a href=https://raw.githubusercontent.com/cs109/2014/master/labs/Lab3_Notes.ipynb download=Lab3_Notes.ipynb> Download this notebook from Github </a>"
     ]
    },
    {
     "cell_type": "markdown",
     "metadata": {},
     "source": [
      "## Numpy\n",
      "\n",
      "NumPy and SciPy are modules in Python for scientific computing.  [NumPy](http://www.numpy.org) lets you do fast, vectorized operations on arrays.  Why use this module?  \n",
      "\n",
      "* It gives you the performance of using low-level code (e.g. C or Fortran) with the benefit of writing the code in an interpreted scripting language (all while keeping the native Python code). \n",
      "* It gives you a fast, memory-efficient multidimensional array called `ndarray` which allows you perform vectorized operations on (and supports mathematical functions such as linear algebra and random number generation)"
     ]
    },
    {
     "cell_type": "code",
     "collapsed": false,
     "input": [
      "# Import NumPy\n",
      "import numpy as np"
     ],
     "language": "python",
     "metadata": {},
     "outputs": [],
     "prompt_number": 58
    },
    {
     "cell_type": "markdown",
     "metadata": {},
     "source": [
      "To create a fast, multidimensional `ndarray` object, use the `np.array()` method on a python `list` or `tuple` or reading data from files. "
     ]
    },
    {
     "cell_type": "code",
     "collapsed": false,
     "input": [
      "x = np.array([1,2,3,4])\n",
      "y = np.array([[1,2], [3,4]])\n",
      "x + 1\n",
      "y = y + 1"
     ],
     "language": "python",
     "metadata": {},
     "outputs": [],
     "prompt_number": 59
    },
    {
     "cell_type": "code",
     "collapsed": false,
     "input": [
      "y"
     ],
     "language": "python",
     "metadata": {},
     "outputs": [
      {
       "metadata": {},
       "output_type": "pyout",
       "prompt_number": 60,
       "text": [
        "array([[2, 3],\n",
        "       [4, 5]])"
       ]
      }
     ],
     "prompt_number": 60
    },
    {
     "cell_type": "code",
     "collapsed": false,
     "input": [
      "type(x)"
     ],
     "language": "python",
     "metadata": {},
     "outputs": [
      {
       "metadata": {},
       "output_type": "pyout",
       "prompt_number": 61,
       "text": [
        "numpy.ndarray"
       ]
      }
     ],
     "prompt_number": 61
    },
    {
     "cell_type": "markdown",
     "metadata": {},
     "source": [
      "#### Properties of NumPy arrays\n",
      "There are a set of properties about the `ndarray` object such the dimensions, the size, etc.  \n",
      "\n",
      "Property | Description\n",
      "--- | ----\n",
      "`y.shape` (or `shape(y)` | Shape or dimension of the array\n",
      "`y.size` (or `size(y)`) | Number of elements in the array \n",
      "`y.ndim` | number of dimensions \n"
     ]
    },
    {
     "cell_type": "code",
     "collapsed": false,
     "input": [
      "print (x.shape)\n",
      "print (y.ndim)\n",
      "print (y.size)"
     ],
     "language": "python",
     "metadata": {},
     "outputs": [
      {
       "output_type": "stream",
       "stream": "stdout",
       "text": [
        "(4,)\n",
        "2\n",
        "4\n"
       ]
      }
     ],
     "prompt_number": 13
    },
    {
     "cell_type": "code",
     "collapsed": false,
     "input": [
      "y.shape"
     ],
     "language": "python",
     "metadata": {},
     "outputs": [
      {
       "metadata": {},
       "output_type": "pyout",
       "prompt_number": 7,
       "text": [
        "(2, 2)"
       ]
      }
     ],
     "prompt_number": 7
    },
    {
     "cell_type": "markdown",
     "metadata": {},
     "source": [
      "#### Other ways to generate NumPy arrays\n",
      "\n",
      "Function | Description\n",
      "--- | ---\n",
      "`np.arange(start,stop,step)` | Create a range between the start and stop arguments\n",
      "`np.linspace(start,stop,num)` | Create a range between start and stop (both ends included) of length num\n",
      "`np.logspace(start, stop,num,base)` | Create a range in the log space with a define base of length num\n",
      "`np.eye(n)` | Generate an n x n identity matrix"
     ]
    },
    {
     "cell_type": "code",
     "collapsed": false,
     "input": [
      "np.arange(0, 21, 2)"
     ],
     "language": "python",
     "metadata": {},
     "outputs": [
      {
       "metadata": {},
       "output_type": "pyout",
       "prompt_number": 14,
       "text": [
        "array([ 0,  2,  4,  6,  8, 10, 12, 14, 16, 18, 20])"
       ]
      }
     ],
     "prompt_number": 14
    },
    {
     "cell_type": "code",
     "collapsed": false,
     "input": [
      "# Try it: Create a numpy array from 0 to 20 in steps of size 2\n",
      "np.eye(3)\n",
      "np.linspace(0,20,4)"
     ],
     "language": "python",
     "metadata": {},
     "outputs": [
      {
       "metadata": {},
       "output_type": "pyout",
       "prompt_number": 22,
       "text": [
        "array([  0.        ,   6.66666667,  13.33333333,  20.        ])"
       ]
      }
     ],
     "prompt_number": 22
    },
    {
     "cell_type": "code",
     "collapsed": false,
     "input": [
      "# Try it: Create a numpy array from -10 to 10 in steps of 0.5 (INCLUDING the number 10)"
     ],
     "language": "python",
     "metadata": {},
     "outputs": [],
     "prompt_number": 10
    },
    {
     "cell_type": "code",
     "collapsed": false,
     "input": [
      "# Try it: Create a numpy array from 100 to 1000 of length 10\n",
      "np.linspace(100, 1000, 10)"
     ],
     "language": "python",
     "metadata": {},
     "outputs": [
      {
       "metadata": {},
       "output_type": "pyout",
       "prompt_number": 23,
       "text": [
        "array([  100.,   200.,   300.,   400.,   500.,   600.,   700.,   800.,\n",
        "         900.,  1000.])"
       ]
      }
     ],
     "prompt_number": 23
    },
    {
     "cell_type": "markdown",
     "metadata": {},
     "source": [
      "In addition, the `numpy.random` module can be used to create arrays using a random number generation "
     ]
    },
    {
     "cell_type": "code",
     "collapsed": false,
     "input": [
      "# importing random is not needed for using these functions"
     ],
     "language": "python",
     "metadata": {},
     "outputs": [],
     "prompt_number": 24
    },
    {
     "cell_type": "markdown",
     "metadata": {},
     "source": [
      "Function | Description\n",
      "--- | ---\n",
      "`np.random.randint(a, b, N)` | Generate N random integers between a and b\n",
      "`np.random.rand(n, m)` | Generate uniform random numbers in [0,1] of dim n x m\n",
      "`np.random.randn(n, m)` | Generate standard normal random numbers of dim n x m\n"
     ]
    },
    {
     "cell_type": "code",
     "collapsed": false,
     "input": [
      "np.random.randint(1, 101, 50)"
     ],
     "language": "python",
     "metadata": {},
     "outputs": [
      {
       "metadata": {},
       "output_type": "pyout",
       "prompt_number": 26,
       "text": [
        "array([62,  5, 87, 97, 63,  7, 98, 74, 79, 89, 57, 74, 50, 36, 26, 71, 18,\n",
        "       52, 75, 36, 75, 95, 41, 62, 28, 57, 52, 49, 82, 71, 59, 52, 71, 60,\n",
        "       60, 32, 68, 86, 59, 65, 20, 58, 19, 66, 35, 70, 78, 74, 89, 24])"
       ]
      }
     ],
     "prompt_number": 26
    },
    {
     "cell_type": "code",
     "collapsed": false,
     "input": [
      "# Try it: Create a numpy array filled with random samples \n",
      "# from a normal distribution of size 4 x 4\n",
      "np.random.randn(4,4)"
     ],
     "language": "python",
     "metadata": {},
     "outputs": [
      {
       "metadata": {},
       "output_type": "pyout",
       "prompt_number": 27,
       "text": [
        "array([[-0.56773673,  0.89278244,  0.23305607,  0.45938302],\n",
        "       [ 0.34665855, -0.92914667, -1.46135563, -1.08582683],\n",
        "       [ 1.47689241,  1.08904821, -0.93688657,  0.47635498],\n",
        "       [ 0.32313328,  0.58794281,  0.68265367,  0.93224952]])"
       ]
      }
     ],
     "prompt_number": 27
    },
    {
     "cell_type": "markdown",
     "metadata": {},
     "source": [
      "#### Reshaping, resizing and stacking NumPy arrays\n",
      "\n",
      "To reshape an array, use `reshape()`:"
     ]
    },
    {
     "cell_type": "code",
     "collapsed": false,
     "input": [
      "z = np.random.rand(4,4)\n",
      "z "
     ],
     "language": "python",
     "metadata": {},
     "outputs": [
      {
       "metadata": {},
       "output_type": "pyout",
       "prompt_number": 28,
       "text": [
        "array([[ 0.86531291,  0.70009119,  0.77058214,  0.25442203],\n",
        "       [ 0.11363831,  0.42918942,  0.46428986,  0.49547673],\n",
        "       [ 0.89009864,  0.82594439,  0.49736543,  0.13409409],\n",
        "       [ 0.47173506,  0.63650913,  0.96239427,  0.15536536]])"
       ]
      }
     ],
     "prompt_number": 28
    },
    {
     "cell_type": "code",
     "collapsed": false,
     "input": [
      "z.shape"
     ],
     "language": "python",
     "metadata": {},
     "outputs": [
      {
       "metadata": {},
       "output_type": "pyout",
       "prompt_number": 29,
       "text": [
        "(4, 4)"
       ]
      }
     ],
     "prompt_number": 29
    },
    {
     "cell_type": "code",
     "collapsed": false,
     "input": [
      "z.reshape((8,2)) # dim is now 8 x 2"
     ],
     "language": "python",
     "metadata": {},
     "outputs": [
      {
       "metadata": {},
       "output_type": "pyout",
       "prompt_number": 32,
       "text": [
        "array([[ 0.86531291,  0.70009119],\n",
        "       [ 0.77058214,  0.25442203],\n",
        "       [ 0.11363831,  0.42918942],\n",
        "       [ 0.46428986,  0.49547673],\n",
        "       [ 0.89009864,  0.82594439],\n",
        "       [ 0.49736543,  0.13409409],\n",
        "       [ 0.47173506,  0.63650913],\n",
        "       [ 0.96239427,  0.15536536]])"
       ]
      }
     ],
     "prompt_number": 32
    },
    {
     "cell_type": "markdown",
     "metadata": {},
     "source": [
      "To flatten an array (convert a higher dimensional array into a vector), use `flatten()`"
     ]
    },
    {
     "cell_type": "code",
     "collapsed": false,
     "input": [
      "z.flatten()"
     ],
     "language": "python",
     "metadata": {},
     "outputs": [
      {
       "metadata": {},
       "output_type": "pyout",
       "prompt_number": 33,
       "text": [
        "array([ 0.86531291,  0.70009119,  0.77058214,  0.25442203,  0.11363831,\n",
        "        0.42918942,  0.46428986,  0.49547673,  0.89009864,  0.82594439,\n",
        "        0.49736543,  0.13409409,  0.47173506,  0.63650913,  0.96239427,\n",
        "        0.15536536])"
       ]
      }
     ],
     "prompt_number": 33
    },
    {
     "cell_type": "markdown",
     "metadata": {},
     "source": [
      "## Operating on NumPy arrays\n",
      "\n",
      "#### Assigning values\n",
      "To assign values to a specific element in a `ndarray`, use the assignment operator. "
     ]
    },
    {
     "cell_type": "code",
     "collapsed": false,
     "input": [
      "y = np.array([[1,2], [3,4]])\n",
      "print (y.shape)\n",
      "print (y.size)"
     ],
     "language": "python",
     "metadata": {},
     "outputs": [
      {
       "output_type": "stream",
       "stream": "stdout",
       "text": [
        "(2, 2)\n",
        "4\n"
       ]
      }
     ],
     "prompt_number": 35
    },
    {
     "cell_type": "code",
     "collapsed": false,
     "input": [
      "y[0,0] = 13\n",
      "y "
     ],
     "language": "python",
     "metadata": {},
     "outputs": [
      {
       "metadata": {},
       "output_type": "pyout",
       "prompt_number": 36,
       "text": [
        "array([[13,  2],\n",
        "       [ 3,  4]])"
       ]
      }
     ],
     "prompt_number": 36
    },
    {
     "cell_type": "markdown",
     "metadata": {},
     "source": [
      "#### Indexing and slicing arrays\n",
      "To extract elements of the NumPy arrays, use the bracket operator and the slice (i.e. colon) operator.  To slice specific elements in the array, use `dat[lower:upper:step]`. To extract the diagonal (and subdiagonal) elements, use `diag()`. "
     ]
    },
    {
     "cell_type": "code",
     "collapsed": false,
     "input": [
      " # random samples from a uniform distribution between 0 and 1\n",
      "dat = np.random.rand(4,4)\n",
      "dat"
     ],
     "language": "python",
     "metadata": {},
     "outputs": [
      {
       "metadata": {},
       "output_type": "pyout",
       "prompt_number": 37,
       "text": [
        "array([[ 0.19597338,  0.27970057,  0.83072917,  0.3954099 ],\n",
        "       [ 0.69945314,  0.85938515,  0.15024428,  0.95926882],\n",
        "       [ 0.93783945,  0.29562062,  0.61397143,  0.26166721],\n",
        "       [ 0.50398684,  0.8787432 ,  0.06093377,  0.92753886]])"
       ]
      }
     ],
     "prompt_number": 37
    },
    {
     "cell_type": "code",
     "collapsed": false,
     "input": [
      "dat[0, :] # row 1"
     ],
     "language": "python",
     "metadata": {},
     "outputs": [
      {
       "metadata": {},
       "output_type": "pyout",
       "prompt_number": 38,
       "text": [
        "array([ 0.19597338,  0.27970057,  0.83072917,  0.3954099 ])"
       ]
      }
     ],
     "prompt_number": 38
    },
    {
     "cell_type": "code",
     "collapsed": false,
     "input": [
      "dat[:, 0] # column 1\n",
      "dat[dat > 0.6]"
     ],
     "language": "python",
     "metadata": {},
     "outputs": [
      {
       "metadata": {},
       "output_type": "pyout",
       "prompt_number": 42,
       "text": [
        "array([ 0.83072917,  0.69945314,  0.85938515,  0.95926882,  0.93783945,\n",
        "        0.61397143,  0.8787432 ,  0.92753886])"
       ]
      }
     ],
     "prompt_number": 42
    },
    {
     "cell_type": "code",
     "collapsed": false,
     "input": [
      "dat[0:3:1, 0] # first and third elements in column 1"
     ],
     "language": "python",
     "metadata": {},
     "outputs": [
      {
       "metadata": {},
       "output_type": "pyout",
       "prompt_number": 41,
       "text": [
        "array([ 0.19597338,  0.69945314,  0.93783945])"
       ]
      }
     ],
     "prompt_number": 41
    },
    {
     "cell_type": "code",
     "collapsed": false,
     "input": [
      "np.diag(dat) # diagonal"
     ],
     "language": "python",
     "metadata": {},
     "outputs": [
      {
       "metadata": {},
       "output_type": "pyout",
       "prompt_number": 43,
       "text": [
        "array([ 0.19597338,  0.85938515,  0.61397143,  0.92753886])"
       ]
      }
     ],
     "prompt_number": 43
    },
    {
     "cell_type": "code",
     "collapsed": false,
     "input": [
      "np.arange(32).reshape((8, 4)) # returns an 8 x 4 array"
     ],
     "language": "python",
     "metadata": {},
     "outputs": [
      {
       "metadata": {},
       "output_type": "pyout",
       "prompt_number": 26,
       "text": [
        "array([[ 0,  1,  2,  3],\n",
        "       [ 4,  5,  6,  7],\n",
        "       [ 8,  9, 10, 11],\n",
        "       [12, 13, 14, 15],\n",
        "       [16, 17, 18, 19],\n",
        "       [20, 21, 22, 23],\n",
        "       [24, 25, 26, 27],\n",
        "       [28, 29, 30, 31]])"
       ]
      }
     ],
     "prompt_number": 26
    },
    {
     "cell_type": "code",
     "collapsed": false,
     "input": [
      "x[0] # returns the first row\n",
      "np.exp(x)"
     ],
     "language": "python",
     "metadata": {},
     "outputs": [
      {
       "metadata": {},
       "output_type": "pyout",
       "prompt_number": 44,
       "text": [
        "array([  2.71828183,   7.3890561 ,  20.08553692,  54.59815003])"
       ]
      }
     ],
     "prompt_number": 44
    },
    {
     "cell_type": "markdown",
     "metadata": {},
     "source": [
      "#### Element-wise transformations on arrays\n",
      "There are many vectorized wrappers that take in one scalar and produce one ore more scalars (e.g. `np.exp()`, `np.sqrt()`). This element-wise array methods are also known as NumPy `ufuncs`. \n",
      "\n",
      "Function | Description \n",
      "--- | --- \n",
      "`np.abs(x)` | absolute value of each element\n",
      "`np.sqrt(x)` | square root of each element\n",
      "`np.square(x)` | square of each element\n",
      "`np.exp(x)` | exponential of each element\n",
      "`np.maximum(x, y)` | element-wise maximum from two arrays x and y\n",
      "`np.minimum(x,y)` | element-wise minimum\n",
      "`np.sign(x)` | compute the sign of each element: 1 (pos), 0 (zero), -1 (neg)\n",
      "`np.subtract(x, y)` | subtract elements in y from elements in x\n",
      "`np.power(x, y)` | raise elements in first array x to powers in second array y\n",
      "`np.where(cond, x, y)` | ifelse statement\n",
      "\n"
     ]
    },
    {
     "cell_type": "markdown",
     "metadata": {},
     "source": [
      "## Vectorizing functions\n",
      "\n",
      "It is important to state again that you should avoid looping through elements in vectors if at all possible.  One way to get around that when writing functions is to use what are called **vectorized functions**.  Say you wrote a function `f` which accepts some input `x` and checks if `x` is bigger or smaller than 0.  \n"
     ]
    },
    {
     "cell_type": "code",
     "collapsed": false,
     "input": [
      "def f(x):\n",
      "    if x >=0:\n",
      "        return True\n",
      "    else:\n",
      "        return False\n",
      "\n",
      "print f(3)\n",
      "arr = [1,2,3]\n",
      "print f(arr)"
     ],
     "language": "python",
     "metadata": {},
     "outputs": [
      {
       "output_type": "stream",
       "stream": "stdout",
       "text": [
        "True\n",
        "True\n"
       ]
      }
     ],
     "prompt_number": 46
    },
    {
     "cell_type": "markdown",
     "metadata": {},
     "source": [
      "If we give the function an array instead of just one value (e.g. 3), then Python will give an error because there is more than one element in `x`.  The way to get around this is to **vectorize** the function.  "
     ]
    },
    {
     "cell_type": "code",
     "collapsed": false,
     "input": [
      "f_vec = np.vectorize(f)\n",
      "z = np.arange(-5, 6)\n",
      "z "
     ],
     "language": "python",
     "metadata": {},
     "outputs": [
      {
       "metadata": {},
       "output_type": "pyout",
       "prompt_number": 48,
       "text": [
        "array([ 0,  1,  2,  3,  4,  5,  6,  7,  8,  9, 10, 11])"
       ]
      }
     ],
     "prompt_number": 48
    },
    {
     "cell_type": "code",
     "collapsed": false,
     "input": [
      "f_vec(z)"
     ],
     "language": "python",
     "metadata": {},
     "outputs": [
      {
       "metadata": {},
       "output_type": "pyout",
       "prompt_number": 30,
       "text": [
        "array([False, False, False, False, False,  True,  True,  True,  True,\n",
        "        True,  True], dtype=bool)"
       ]
      }
     ],
     "prompt_number": 30
    },
    {
     "cell_type": "markdown",
     "metadata": {},
     "source": [
      "Instead of vectorizing the function, you can also make the function itself aware that it will be accepting vectors from the beginning. "
     ]
    },
    {
     "cell_type": "code",
     "collapsed": false,
     "input": [
      "def f(x):\n",
      "    return (x >=0)\n",
      "\n",
      "print f(3)\n",
      "print f([1,2,3])"
     ],
     "language": "python",
     "metadata": {},
     "outputs": [
      {
       "output_type": "stream",
       "stream": "stdout",
       "text": [
        "True\n",
        "True\n"
       ]
      }
     ],
     "prompt_number": 49
    },
    {
     "cell_type": "markdown",
     "metadata": {},
     "source": [
      "# Scipy"
     ]
    },
    {
     "cell_type": "markdown",
     "metadata": {},
     "source": [
      "Now that you know a little bit about [NumPy](numpy.html) and SciPy is a collection of mathematical and scientific modules built on top of NumPy.  For example, SciPy can handle multidimensional arrays, integration, linear algebra, statistics and optimization.  "
     ]
    },
    {
     "cell_type": "code",
     "collapsed": false,
     "input": [
      "# Import SciPy\n",
      "import scipy"
     ],
     "language": "python",
     "metadata": {},
     "outputs": [],
     "prompt_number": 62
    },
    {
     "cell_type": "markdown",
     "metadata": {},
     "source": [
      "SciPy includes most of NumPy, so importing SciPy should be generally OK. The main SciPy module is made up of many [submodules containing specialized topics](http://docs.scipy.org/doc/scipy/reference/). \n",
      "\n",
      "Favorite SciPy submodules | What does it contain? \n",
      "--- | --- \n",
      "`scipy.stats` | [statistics](http://docs.scipy.org/doc/scipy/reference/tutorial/stats.html): random variables, probability density functions, cumulative distribution functions, survival functions\n",
      "`scipy.integrate` | [integration](http://docs.scipy.org/doc/scipy/reference/tutorial/integrate.html): single, double, triple integration, trapezoidal rule, Simpson's rule, differential equation solvers\n",
      "`scipy.signal` | [signal processing tools](http://docs.scipy.org/doc/scipy/reference/signal.html): signal processing tools such as wavelets, spectral densities, filters, B-splines\n",
      "`scipy.optimize` | [optimization](http://docs.scipy.org/doc/scipy/reference/optimize.html): find roots, curve fitting, least squares, etc \n",
      "`scipy.special` | [special functions](http://docs.scipy.org/doc/scipy/reference/tutorial/special.html): very specialized functions in mathematical physics e.g. bessel, gamma\n",
      "`scipy.linalg` | [linear algebra](http://docs.scipy.org/doc/scipy/reference/linalg.html): inverse of a matrix, determinant, Kronecker product, eigenvalue decomposition, SVD, functions for matrices (beyond those in `numpy.linalg`)\n",
      "\n",
      "If you want to import a SciPy submodule (e.g. the statistics submodule `scipy.stats`), use "
     ]
    },
    {
     "cell_type": "code",
     "collapsed": false,
     "input": [
      "from scipy import stats"
     ],
     "language": "python",
     "metadata": {},
     "outputs": [],
     "prompt_number": 51
    },
    {
     "cell_type": "markdown",
     "metadata": {},
     "source": [
      "#### scipy.stats \n",
      "Let's dive a bit deeper in `scipy.stats`. The real utility of this submodule is to access probability distributions functions (pdfs) and standard statistical tests (e.g. $t$-test).  \n",
      "\n",
      "#### Probability distribution functions\n",
      "There is a large collection of [continuous and discrete pdfs](http://docs.scipy.org/doc/scipy/reference/stats.html) in the `scipy.stats` submodule.  The syntax to simulate random variables from a specific pdf is the name of the distribution  followed by `.rvs`. To generate $n$=10 $N(0,1)$ random variables, "
     ]
    },
    {
     "cell_type": "code",
     "collapsed": false,
     "input": [
      "x = norm.rvs(loc = 0, scale = 1, size = 1000)\n",
      "plt.hist(x)\n",
      "plt.title('Histogram of 1000 normal random variables')\n",
      "plt.xlabel('Value')\n",
      "plt.ylabel('Number')"
     ],
     "language": "python",
     "metadata": {},
     "outputs": [
      {
       "metadata": {},
       "output_type": "pyout",
       "prompt_number": 65,
       "text": [
        "<matplotlib.text.Text at 0x1096afcd0>"
       ]
      },
      {
       "metadata": {},
       "output_type": "display_data",
       "png": "[encoded data removed]",
       "text": [
        "<matplotlib.figure.Figure at 0x109865550>"
       ]
      }
     ],
     "prompt_number": 65
    },
    {
     "cell_type": "markdown",
     "metadata": {},
     "source": [
      "# More Pandas and Matplotlib\n",
      "\n",
      "## Motor Trend Car Road Tests Data\n",
      "\n",
      "The data was extracted from the 1974 Motor Trend US magazine, and comprises fuel consumption and 10 aspects of automobile design and performance for 32 automobiles (1973\u201374 models). This dataset is available on Github in the [2014_data repository](https://github.com/cs109/2014_data) and is called `mtcars.csv`. "
     ]
    },
    {
     "cell_type": "markdown",
     "metadata": {},
     "source": [
      "## Reading in the mtcars data (CSV file) from the web\n",
      "\n",
      "This is a `.csv` file, so we will use the function `read_csv()` that will read in a CSV file into a pandas DataFrame. "
     ]
    },
    {
     "cell_type": "code",
     "collapsed": false,
     "input": [
      "url = 'https://raw.githubusercontent.com/cs109/2014_data/master/mtcars.csv'\n",
      "mtcars = pd.read_csv(url, sep = ',', index_col=0)\n",
      "mtcars.head()"
     ],
     "language": "python",
     "metadata": {},
     "outputs": [
      {
       "html": [
        "<div style=\"max-height:1000px;max-width:1500px;overflow:auto;\">\n",
        "<table border=\"1\" class=\"dataframe\">\n",
        "  <thead>\n",
        "    <tr style=\"text-align: right;\">\n",
        "      <th></th>\n",
        "      <th>mpg</th>\n",
        "      <th>cyl</th>\n",
        "      <th>disp</th>\n",
        "      <th>hp</th>\n",
        "      <th>drat</th>\n",
        "      <th>wt</th>\n",
        "      <th>qsec</th>\n",
        "      <th>vs</th>\n",
        "      <th>am</th>\n",
        "      <th>gear</th>\n",
        "      <th>carb</th>\n",
        "    </tr>\n",
        "  </thead>\n",
        "  <tbody>\n",
        "    <tr>\n",
        "      <th>Mazda RX4</th>\n",
        "      <td> 21.0</td>\n",
        "      <td> 6</td>\n",
        "      <td> 160</td>\n",
        "      <td> 110</td>\n",
        "      <td> 3.90</td>\n",
        "      <td> 2.620</td>\n",
        "      <td> 16.46</td>\n",
        "      <td> 0</td>\n",
        "      <td> 1</td>\n",
        "      <td> 4</td>\n",
        "      <td> 4</td>\n",
        "    </tr>\n",
        "    <tr>\n",
        "      <th>Mazda RX4 Wag</th>\n",
        "      <td> 21.0</td>\n",
        "      <td> 6</td>\n",
        "      <td> 160</td>\n",
        "      <td> 110</td>\n",
        "      <td> 3.90</td>\n",
        "      <td> 2.875</td>\n",
        "      <td> 17.02</td>\n",
        "      <td> 0</td>\n",
        "      <td> 1</td>\n",
        "      <td> 4</td>\n",
        "      <td> 4</td>\n",
        "    </tr>\n",
        "    <tr>\n",
        "      <th>Datsun 710</th>\n",
        "      <td> 22.8</td>\n",
        "      <td> 4</td>\n",
        "      <td> 108</td>\n",
        "      <td>  93</td>\n",
        "      <td> 3.85</td>\n",
        "      <td> 2.320</td>\n",
        "      <td> 18.61</td>\n",
        "      <td> 1</td>\n",
        "      <td> 1</td>\n",
        "      <td> 4</td>\n",
        "      <td> 1</td>\n",
        "    </tr>\n",
        "    <tr>\n",
        "      <th>Hornet 4 Drive</th>\n",
        "      <td> 21.4</td>\n",
        "      <td> 6</td>\n",
        "      <td> 258</td>\n",
        "      <td> 110</td>\n",
        "      <td> 3.08</td>\n",
        "      <td> 3.215</td>\n",
        "      <td> 19.44</td>\n",
        "      <td> 1</td>\n",
        "      <td> 0</td>\n",
        "      <td> 3</td>\n",
        "      <td> 1</td>\n",
        "    </tr>\n",
        "    <tr>\n",
        "      <th>Hornet Sportabout</th>\n",
        "      <td> 18.7</td>\n",
        "      <td> 8</td>\n",
        "      <td> 360</td>\n",
        "      <td> 175</td>\n",
        "      <td> 3.15</td>\n",
        "      <td> 3.440</td>\n",
        "      <td> 17.02</td>\n",
        "      <td> 0</td>\n",
        "      <td> 0</td>\n",
        "      <td> 3</td>\n",
        "      <td> 2</td>\n",
        "    </tr>\n",
        "  </tbody>\n",
        "</table>\n",
        "</div>"
       ],
       "metadata": {},
       "output_type": "pyout",
       "prompt_number": 66,
       "text": [
        "                    mpg  cyl  disp   hp  drat     wt   qsec  vs  am  gear  \\\n",
        "Mazda RX4          21.0    6   160  110  3.90  2.620  16.46   0   1     4   \n",
        "Mazda RX4 Wag      21.0    6   160  110  3.90  2.875  17.02   0   1     4   \n",
        "Datsun 710         22.8    4   108   93  3.85  2.320  18.61   1   1     4   \n",
        "Hornet 4 Drive     21.4    6   258  110  3.08  3.215  19.44   1   0     3   \n",
        "Hornet Sportabout  18.7    8   360  175  3.15  3.440  17.02   0   0     3   \n",
        "\n",
        "                   carb  \n",
        "Mazda RX4             4  \n",
        "Mazda RX4 Wag         4  \n",
        "Datsun 710            1  \n",
        "Hornet 4 Drive        1  \n",
        "Hornet Sportabout     2  "
       ]
      }
     ],
     "prompt_number": 66
    },
    {
     "cell_type": "code",
     "collapsed": false,
     "input": [
      "# DataFrame with 32 observations on 11 variables\n",
      "print (mtcars.shape)\n",
      "print (mtcars.mpg.shape)"
     ],
     "language": "python",
     "metadata": {},
     "outputs": [
      {
       "output_type": "stream",
       "stream": "stdout",
       "text": [
        "(32, 11)\n",
        "(32,)\n"
       ]
      }
     ],
     "prompt_number": 71
    },
    {
     "cell_type": "code",
     "collapsed": false,
     "input": [
      "# return the column names\n",
      "mtcars.columns"
     ],
     "language": "python",
     "metadata": {},
     "outputs": [
      {
       "metadata": {},
       "output_type": "pyout",
       "prompt_number": 73,
       "text": [
        "Index([u'mpg', u'cyl', u'disp', u'hp', u'drat', u'wt', u'qsec', u'vs', u'am', u'gear', u'carb'], dtype='object')"
       ]
      }
     ],
     "prompt_number": 73
    },
    {
     "cell_type": "markdown",
     "metadata": {},
     "source": [
      "Here is a table containing a description of all the column names. \n",
      "\n",
      "Column name | Description \n",
      "--- | --- \n",
      "mpg | Miles/(US) gallon\n",
      "cyl | Number of cylinders\n",
      "disp | Displacement (cu.in.)\n",
      "hp | Gross horsepower\n",
      "drat | Rear axle ratio\n",
      "wt | Weight (lb/1000)\n",
      "qsec | 1/4 mile time\n",
      "vs | V/S\n",
      "am | Transmission (0 = automatic, 1 = manual)\n",
      "gear | Number of forward gears\n",
      "carb | Number of carburetors\n"
     ]
    },
    {
     "cell_type": "code",
     "collapsed": false,
     "input": [
      "# return the actual data inside the panadas data frame\n",
      "mtcars.values"
     ],
     "language": "python",
     "metadata": {},
     "outputs": [
      {
       "metadata": {},
       "output_type": "pyout",
       "prompt_number": 38,
       "text": [
        "array([[  21.   ,    6.   ,  160.   ,  110.   ,    3.9  ,    2.62 ,\n",
        "          16.46 ,    0.   ,    1.   ,    4.   ,    4.   ],\n",
        "       [  21.   ,    6.   ,  160.   ,  110.   ,    3.9  ,    2.875,\n",
        "          17.02 ,    0.   ,    1.   ,    4.   ,    4.   ],\n",
        "       [  22.8  ,    4.   ,  108.   ,   93.   ,    3.85 ,    2.32 ,\n",
        "          18.61 ,    1.   ,    1.   ,    4.   ,    1.   ],\n",
        "       [  21.4  ,    6.   ,  258.   ,  110.   ,    3.08 ,    3.215,\n",
        "          19.44 ,    1.   ,    0.   ,    3.   ,    1.   ],\n",
        "       [  18.7  ,    8.   ,  360.   ,  175.   ,    3.15 ,    3.44 ,\n",
        "          17.02 ,    0.   ,    0.   ,    3.   ,    2.   ],\n",
        "       [  18.1  ,    6.   ,  225.   ,  105.   ,    2.76 ,    3.46 ,\n",
        "          20.22 ,    1.   ,    0.   ,    3.   ,    1.   ],\n",
        "       [  14.3  ,    8.   ,  360.   ,  245.   ,    3.21 ,    3.57 ,\n",
        "          15.84 ,    0.   ,    0.   ,    3.   ,    4.   ],\n",
        "       [  24.4  ,    4.   ,  146.7  ,   62.   ,    3.69 ,    3.19 ,\n",
        "          20.   ,    1.   ,    0.   ,    4.   ,    2.   ],\n",
        "       [  22.8  ,    4.   ,  140.8  ,   95.   ,    3.92 ,    3.15 ,\n",
        "          22.9  ,    1.   ,    0.   ,    4.   ,    2.   ],\n",
        "       [  19.2  ,    6.   ,  167.6  ,  123.   ,    3.92 ,    3.44 ,\n",
        "          18.3  ,    1.   ,    0.   ,    4.   ,    4.   ],\n",
        "       [  17.8  ,    6.   ,  167.6  ,  123.   ,    3.92 ,    3.44 ,\n",
        "          18.9  ,    1.   ,    0.   ,    4.   ,    4.   ],\n",
        "       [  16.4  ,    8.   ,  275.8  ,  180.   ,    3.07 ,    4.07 ,\n",
        "          17.4  ,    0.   ,    0.   ,    3.   ,    3.   ],\n",
        "       [  17.3  ,    8.   ,  275.8  ,  180.   ,    3.07 ,    3.73 ,\n",
        "          17.6  ,    0.   ,    0.   ,    3.   ,    3.   ],\n",
        "       [  15.2  ,    8.   ,  275.8  ,  180.   ,    3.07 ,    3.78 ,\n",
        "          18.   ,    0.   ,    0.   ,    3.   ,    3.   ],\n",
        "       [  10.4  ,    8.   ,  472.   ,  205.   ,    2.93 ,    5.25 ,\n",
        "          17.98 ,    0.   ,    0.   ,    3.   ,    4.   ],\n",
        "       [  10.4  ,    8.   ,  460.   ,  215.   ,    3.   ,    5.424,\n",
        "          17.82 ,    0.   ,    0.   ,    3.   ,    4.   ],\n",
        "       [  14.7  ,    8.   ,  440.   ,  230.   ,    3.23 ,    5.345,\n",
        "          17.42 ,    0.   ,    0.   ,    3.   ,    4.   ],\n",
        "       [  32.4  ,    4.   ,   78.7  ,   66.   ,    4.08 ,    2.2  ,\n",
        "          19.47 ,    1.   ,    1.   ,    4.   ,    1.   ],\n",
        "       [  30.4  ,    4.   ,   75.7  ,   52.   ,    4.93 ,    1.615,\n",
        "          18.52 ,    1.   ,    1.   ,    4.   ,    2.   ],\n",
        "       [  33.9  ,    4.   ,   71.1  ,   65.   ,    4.22 ,    1.835,\n",
        "          19.9  ,    1.   ,    1.   ,    4.   ,    1.   ],\n",
        "       [  21.5  ,    4.   ,  120.1  ,   97.   ,    3.7  ,    2.465,\n",
        "          20.01 ,    1.   ,    0.   ,    3.   ,    1.   ],\n",
        "       [  15.5  ,    8.   ,  318.   ,  150.   ,    2.76 ,    3.52 ,\n",
        "          16.87 ,    0.   ,    0.   ,    3.   ,    2.   ],\n",
        "       [  15.2  ,    8.   ,  304.   ,  150.   ,    3.15 ,    3.435,\n",
        "          17.3  ,    0.   ,    0.   ,    3.   ,    2.   ],\n",
        "       [  13.3  ,    8.   ,  350.   ,  245.   ,    3.73 ,    3.84 ,\n",
        "          15.41 ,    0.   ,    0.   ,    3.   ,    4.   ],\n",
        "       [  19.2  ,    8.   ,  400.   ,  175.   ,    3.08 ,    3.845,\n",
        "          17.05 ,    0.   ,    0.   ,    3.   ,    2.   ],\n",
        "       [  27.3  ,    4.   ,   79.   ,   66.   ,    4.08 ,    1.935,\n",
        "          18.9  ,    1.   ,    1.   ,    4.   ,    1.   ],\n",
        "       [  26.   ,    4.   ,  120.3  ,   91.   ,    4.43 ,    2.14 ,\n",
        "          16.7  ,    0.   ,    1.   ,    5.   ,    2.   ],\n",
        "       [  30.4  ,    4.   ,   95.1  ,  113.   ,    3.77 ,    1.513,\n",
        "          16.9  ,    1.   ,    1.   ,    5.   ,    2.   ],\n",
        "       [  15.8  ,    8.   ,  351.   ,  264.   ,    4.22 ,    3.17 ,\n",
        "          14.5  ,    0.   ,    1.   ,    5.   ,    4.   ],\n",
        "       [  19.7  ,    6.   ,  145.   ,  175.   ,    3.62 ,    2.77 ,\n",
        "          15.5  ,    0.   ,    1.   ,    5.   ,    6.   ],\n",
        "       [  15.   ,    8.   ,  301.   ,  335.   ,    3.54 ,    3.57 ,\n",
        "          14.6  ,    0.   ,    1.   ,    5.   ,    8.   ],\n",
        "       [  21.4  ,    4.   ,  121.   ,  109.   ,    4.11 ,    2.78 ,\n",
        "          18.6  ,    1.   ,    1.   ,    4.   ,    2.   ]])"
       ]
      }
     ],
     "prompt_number": 38
    },
    {
     "cell_type": "code",
     "collapsed": false,
     "input": [
      "mtcars[25:] # rows 25 to end of data frame\n",
      "mtcars[2:4]"
     ],
     "language": "python",
     "metadata": {},
     "outputs": [
      {
       "html": [
        "<div style=\"max-height:1000px;max-width:1500px;overflow:auto;\">\n",
        "<table border=\"1\" class=\"dataframe\">\n",
        "  <thead>\n",
        "    <tr style=\"text-align: right;\">\n",
        "      <th></th>\n",
        "      <th>mpg</th>\n",
        "      <th>cyl</th>\n",
        "      <th>disp</th>\n",
        "      <th>hp</th>\n",
        "      <th>drat</th>\n",
        "      <th>wt</th>\n",
        "      <th>qsec</th>\n",
        "      <th>vs</th>\n",
        "      <th>am</th>\n",
        "      <th>gear</th>\n",
        "      <th>carb</th>\n",
        "    </tr>\n",
        "  </thead>\n",
        "  <tbody>\n",
        "    <tr>\n",
        "      <th>Datsun 710</th>\n",
        "      <td> 22.8</td>\n",
        "      <td> 4</td>\n",
        "      <td> 108</td>\n",
        "      <td>  93</td>\n",
        "      <td> 3.85</td>\n",
        "      <td> 2.320</td>\n",
        "      <td> 18.61</td>\n",
        "      <td> 1</td>\n",
        "      <td> 1</td>\n",
        "      <td> 4</td>\n",
        "      <td> 1</td>\n",
        "    </tr>\n",
        "    <tr>\n",
        "      <th>Hornet 4 Drive</th>\n",
        "      <td> 21.4</td>\n",
        "      <td> 6</td>\n",
        "      <td> 258</td>\n",
        "      <td> 110</td>\n",
        "      <td> 3.08</td>\n",
        "      <td> 3.215</td>\n",
        "      <td> 19.44</td>\n",
        "      <td> 1</td>\n",
        "      <td> 0</td>\n",
        "      <td> 3</td>\n",
        "      <td> 1</td>\n",
        "    </tr>\n",
        "  </tbody>\n",
        "</table>\n",
        "</div>"
       ],
       "metadata": {},
       "output_type": "pyout",
       "prompt_number": 79,
       "text": [
        "                 mpg  cyl  disp   hp  drat     wt   qsec  vs  am  gear  carb\n",
        "Datsun 710      22.8    4   108   93  3.85  2.320  18.61   1   1     4     1\n",
        "Hornet 4 Drive  21.4    6   258  110  3.08  3.215  19.44   1   0     3     1"
       ]
      }
     ],
     "prompt_number": 79
    },
    {
     "cell_type": "code",
     "collapsed": false,
     "input": [
      "# return index\n",
      "mtcars.index"
     ],
     "language": "python",
     "metadata": {},
     "outputs": [
      {
       "metadata": {},
       "output_type": "pyout",
       "prompt_number": 40,
       "text": [
        "Index([u'Mazda RX4', u'Mazda RX4 Wag', u'Datsun 710', u'Hornet 4 Drive', u'Hornet Sportabout', u'Valiant', u'Duster 360', u'Merc 240D', u'Merc 230', u'Merc 280', u'Merc 280C', u'Merc 450SE', u'Merc 450SL', u'Merc 450SLC', u'Cadillac Fleetwood', u'Lincoln Continental', u'Chrysler Imperial', u'Fiat 128', u'Honda Civic', u'Toyota Corolla', u'Toyota Corona', u'Dodge Challenger', u'AMC Javelin', u'Camaro Z28', u'Pontiac Firebird', u'Fiat X1-9', u'Porsche 914-2', u'Lotus Europa', u'Ford Pantera L', u'Ferrari Dino', u'Maserati Bora', u'Volvo 142E'], dtype='object')"
       ]
      }
     ],
     "prompt_number": 40
    },
    {
     "cell_type": "code",
     "collapsed": false,
     "input": [
      "mtcars.ix['Maserati Bora'] # access a row by an index\n",
      "mtcars.mpg.shape"
     ],
     "language": "python",
     "metadata": {},
     "outputs": [
      {
       "metadata": {},
       "output_type": "pyout",
       "prompt_number": 81,
       "text": [
        "(32,)"
       ]
      }
     ],
     "prompt_number": 81
    },
    {
     "cell_type": "code",
     "collapsed": false,
     "input": [
      "# What other methods are available when working with pandas DataFrames?\n",
      "# type 'mtcars.' and then click <TAB>\n",
      "# mtcars.<TAB>\n",
      "\n",
      "# try it here\n",
      "mtcars.columns"
     ],
     "language": "python",
     "metadata": {},
     "outputs": [
      {
       "metadata": {},
       "output_type": "pyout",
       "prompt_number": 82,
       "text": [
        "Index([u'mpg', u'cyl', u'disp', u'hp', u'drat', u'wt', u'qsec', u'vs', u'am', u'gear', u'carb'], dtype='object')"
       ]
      }
     ],
     "prompt_number": 82
    },
    {
     "cell_type": "markdown",
     "metadata": {},
     "source": [
      "## Exploratory Data Analysis (EDA)\n",
      "\n",
      "Even though they may look like continuous variabes, `cyl`, `vs`, `am`, `gear` and `carb` are integer or categorical variables. First, let's look at some summary statistics of the mtcars data set. "
     ]
    },
    {
     "cell_type": "code",
     "collapsed": false,
     "input": [
      "mtcars.describe()"
     ],
     "language": "python",
     "metadata": {},
     "outputs": [
      {
       "html": [
        "<div style=\"max-height:1000px;max-width:1500px;overflow:auto;\">\n",
        "<table border=\"1\" class=\"dataframe\">\n",
        "  <thead>\n",
        "    <tr style=\"text-align: right;\">\n",
        "      <th></th>\n",
        "      <th>mpg</th>\n",
        "      <th>cyl</th>\n",
        "      <th>disp</th>\n",
        "      <th>hp</th>\n",
        "      <th>drat</th>\n",
        "      <th>wt</th>\n",
        "      <th>qsec</th>\n",
        "      <th>vs</th>\n",
        "      <th>am</th>\n",
        "      <th>gear</th>\n",
        "      <th>carb</th>\n",
        "    </tr>\n",
        "  </thead>\n",
        "  <tbody>\n",
        "    <tr>\n",
        "      <th>count</th>\n",
        "      <td> 32.000000</td>\n",
        "      <td> 32.000000</td>\n",
        "      <td>  32.000000</td>\n",
        "      <td>  32.000000</td>\n",
        "      <td> 32.000000</td>\n",
        "      <td> 32.000000</td>\n",
        "      <td> 32.000000</td>\n",
        "      <td> 32.000000</td>\n",
        "      <td> 32.000000</td>\n",
        "      <td> 32.000000</td>\n",
        "      <td> 32.0000</td>\n",
        "    </tr>\n",
        "    <tr>\n",
        "      <th>mean</th>\n",
        "      <td> 20.090625</td>\n",
        "      <td>  6.187500</td>\n",
        "      <td> 230.721875</td>\n",
        "      <td> 146.687500</td>\n",
        "      <td>  3.596563</td>\n",
        "      <td>  3.217250</td>\n",
        "      <td> 17.848750</td>\n",
        "      <td>  0.437500</td>\n",
        "      <td>  0.406250</td>\n",
        "      <td>  3.687500</td>\n",
        "      <td>  2.8125</td>\n",
        "    </tr>\n",
        "    <tr>\n",
        "      <th>std</th>\n",
        "      <td>  6.026948</td>\n",
        "      <td>  1.785922</td>\n",
        "      <td> 123.938694</td>\n",
        "      <td>  68.562868</td>\n",
        "      <td>  0.534679</td>\n",
        "      <td>  0.978457</td>\n",
        "      <td>  1.786943</td>\n",
        "      <td>  0.504016</td>\n",
        "      <td>  0.498991</td>\n",
        "      <td>  0.737804</td>\n",
        "      <td>  1.6152</td>\n",
        "    </tr>\n",
        "    <tr>\n",
        "      <th>min</th>\n",
        "      <td> 10.400000</td>\n",
        "      <td>  4.000000</td>\n",
        "      <td>  71.100000</td>\n",
        "      <td>  52.000000</td>\n",
        "      <td>  2.760000</td>\n",
        "      <td>  1.513000</td>\n",
        "      <td> 14.500000</td>\n",
        "      <td>  0.000000</td>\n",
        "      <td>  0.000000</td>\n",
        "      <td>  3.000000</td>\n",
        "      <td>  1.0000</td>\n",
        "    </tr>\n",
        "    <tr>\n",
        "      <th>25%</th>\n",
        "      <td> 15.425000</td>\n",
        "      <td>  4.000000</td>\n",
        "      <td> 120.825000</td>\n",
        "      <td>  96.500000</td>\n",
        "      <td>  3.080000</td>\n",
        "      <td>  2.581250</td>\n",
        "      <td> 16.892500</td>\n",
        "      <td>  0.000000</td>\n",
        "      <td>  0.000000</td>\n",
        "      <td>  3.000000</td>\n",
        "      <td>  2.0000</td>\n",
        "    </tr>\n",
        "    <tr>\n",
        "      <th>50%</th>\n",
        "      <td> 19.200000</td>\n",
        "      <td>  6.000000</td>\n",
        "      <td> 196.300000</td>\n",
        "      <td> 123.000000</td>\n",
        "      <td>  3.695000</td>\n",
        "      <td>  3.325000</td>\n",
        "      <td> 17.710000</td>\n",
        "      <td>  0.000000</td>\n",
        "      <td>  0.000000</td>\n",
        "      <td>  4.000000</td>\n",
        "      <td>  2.0000</td>\n",
        "    </tr>\n",
        "    <tr>\n",
        "      <th>75%</th>\n",
        "      <td> 22.800000</td>\n",
        "      <td>  8.000000</td>\n",
        "      <td> 326.000000</td>\n",
        "      <td> 180.000000</td>\n",
        "      <td>  3.920000</td>\n",
        "      <td>  3.610000</td>\n",
        "      <td> 18.900000</td>\n",
        "      <td>  1.000000</td>\n",
        "      <td>  1.000000</td>\n",
        "      <td>  4.000000</td>\n",
        "      <td>  4.0000</td>\n",
        "    </tr>\n",
        "    <tr>\n",
        "      <th>max</th>\n",
        "      <td> 33.900000</td>\n",
        "      <td>  8.000000</td>\n",
        "      <td> 472.000000</td>\n",
        "      <td> 335.000000</td>\n",
        "      <td>  4.930000</td>\n",
        "      <td>  5.424000</td>\n",
        "      <td> 22.900000</td>\n",
        "      <td>  1.000000</td>\n",
        "      <td>  1.000000</td>\n",
        "      <td>  5.000000</td>\n",
        "      <td>  8.0000</td>\n",
        "    </tr>\n",
        "  </tbody>\n",
        "</table>\n",
        "</div>"
       ],
       "metadata": {},
       "output_type": "pyout",
       "prompt_number": 83,
       "text": [
        "             mpg        cyl        disp          hp       drat         wt  \\\n",
        "count  32.000000  32.000000   32.000000   32.000000  32.000000  32.000000   \n",
        "mean   20.090625   6.187500  230.721875  146.687500   3.596563   3.217250   \n",
        "std     6.026948   1.785922  123.938694   68.562868   0.534679   0.978457   \n",
        "min    10.400000   4.000000   71.100000   52.000000   2.760000   1.513000   \n",
        "25%    15.425000   4.000000  120.825000   96.500000   3.080000   2.581250   \n",
        "50%    19.200000   6.000000  196.300000  123.000000   3.695000   3.325000   \n",
        "75%    22.800000   8.000000  326.000000  180.000000   3.920000   3.610000   \n",
        "max    33.900000   8.000000  472.000000  335.000000   4.930000   5.424000   \n",
        "\n",
        "            qsec         vs         am       gear     carb  \n",
        "count  32.000000  32.000000  32.000000  32.000000  32.0000  \n",
        "mean   17.848750   0.437500   0.406250   3.687500   2.8125  \n",
        "std     1.786943   0.504016   0.498991   0.737804   1.6152  \n",
        "min    14.500000   0.000000   0.000000   3.000000   1.0000  \n",
        "25%    16.892500   0.000000   0.000000   3.000000   2.0000  \n",
        "50%    17.710000   0.000000   0.000000   4.000000   2.0000  \n",
        "75%    18.900000   1.000000   1.000000   4.000000   4.0000  \n",
        "max    22.900000   1.000000   1.000000   5.000000   8.0000  "
       ]
      }
     ],
     "prompt_number": 83
    },
    {
     "cell_type": "markdown",
     "metadata": {},
     "source": [
      "#### Using conditional statements\n",
      "\n",
      "To check if `any` or `all` elements in an array meet a certain criteria, use `any()` and `all()`. "
     ]
    },
    {
     "cell_type": "code",
     "collapsed": false,
     "input": [
      "(mtcars.mpg >= 20).any()"
     ],
     "language": "python",
     "metadata": {},
     "outputs": [
      {
       "metadata": {},
       "output_type": "pyout",
       "prompt_number": 85,
       "text": [
        "True"
       ]
      }
     ],
     "prompt_number": 85
    },
    {
     "cell_type": "code",
     "collapsed": false,
     "input": [
      "(mtcars > 0).all()"
     ],
     "language": "python",
     "metadata": {},
     "outputs": [
      {
       "metadata": {},
       "output_type": "pyout",
       "prompt_number": 89,
       "text": [
        "mpg      True\n",
        "cyl      True\n",
        "disp     True\n",
        "hp       True\n",
        "drat     True\n",
        "wt       True\n",
        "qsec     True\n",
        "vs      False\n",
        "am      False\n",
        "gear     True\n",
        "carb     True\n",
        "dtype: bool"
       ]
      }
     ],
     "prompt_number": 89
    },
    {
     "cell_type": "markdown",
     "metadata": {},
     "source": [
      "Let's look at the distribution of `mpg` using a histogram."
     ]
    },
    {
     "cell_type": "code",
     "collapsed": false,
     "input": [
      "mtcars['mpg'].hist()\n",
      "plt.title('Distribution of MPG')\n",
      "plt.xlabel('Miles Per Gallon')"
     ],
     "language": "python",
     "metadata": {},
     "outputs": [
      {
       "metadata": {},
       "output_type": "pyout",
       "prompt_number": 46,
       "text": [
        "<matplotlib.text.Text at 0x108a22550>"
       ]
      },
      {
       "metadata": {},
       "output_type": "display_data",
       "png": "[encoded data removed]",
       "text": [
        "<matplotlib.figure.Figure at 0x1087f14d0>"
       ]
      }
     ],
     "prompt_number": 46
    },
    {
     "cell_type": "code",
     "collapsed": false,
     "input": [
      "# Relationship between cyl and mpg\n",
      "plt.plot(mtcars.cyl, mtcars.mpg, 'o')\n",
      "plt.xlim(3, 9)\n",
      "plt.xlabel('Cylinders')\n",
      "plt.ylabel('MPG')\n",
      "plt.title('Relationship between cylinders and MPG')"
     ],
     "language": "python",
     "metadata": {},
     "outputs": [
      {
       "metadata": {},
       "output_type": "pyout",
       "prompt_number": 47,
       "text": [
        "<matplotlib.text.Text at 0x10969b5d0>"
       ]
      },
      {
       "metadata": {},
       "output_type": "display_data",
       "png": "[encoded data removed]",
       "text": [
        "<matplotlib.figure.Figure at 0x109538710>"
       ]
      }
     ],
     "prompt_number": 47
    },
    {
     "cell_type": "code",
     "collapsed": false,
     "input": [
      "# Relationship between horsepower and mpg\n",
      "plt.plot(mtcars.hp, mtcars.mpg, 'o')\n",
      "plt.xlabel('Horsepower')\n",
      "plt.ylabel('MPG')\n",
      "plt.title('Relationship between horsepower and MPG')"
     ],
     "language": "python",
     "metadata": {},
     "outputs": [
      {
       "metadata": {},
       "output_type": "pyout",
       "prompt_number": 48,
       "text": [
        "<matplotlib.text.Text at 0x1097bc150>"
       ]
      },
      {
       "metadata": {},
       "output_type": "display_data",
       "png": "[encoded data removed]",
       "text": [
        "<matplotlib.figure.Figure at 0x1089ff790>"
       ]
      }
     ],
     "prompt_number": 48
    },
    {
     "cell_type": "code",
     "collapsed": false,
     "input": [
      "from pandas.tools.plotting import scatter_matrix\n",
      "scatter_matrix(mtcars[['mpg', 'hp', 'cyl']], \n",
      "               figsize = (10, 6), alpha = 1, diagonal='kde')"
     ],
     "language": "python",
     "metadata": {},
     "outputs": [
      {
       "metadata": {},
       "output_type": "pyout",
       "prompt_number": 92,
       "text": [
        "array([[<matplotlib.axes.AxesSubplot object at 0x1096ba2d0>,\n",
        "        <matplotlib.axes.AxesSubplot object at 0x10f49fd10>,\n",
        "        <matplotlib.axes.AxesSubplot object at 0x10b076250>],\n",
        "       [<matplotlib.axes.AxesSubplot object at 0x10ffd3850>,\n",
        "        <matplotlib.axes.AxesSubplot object at 0x113c5a210>,\n",
        "        <matplotlib.axes.AxesSubplot object at 0x113984610>],\n",
        "       [<matplotlib.axes.AxesSubplot object at 0x113f73790>,\n",
        "        <matplotlib.axes.AxesSubplot object at 0x113fa87d0>,\n",
        "        <matplotlib.axes.AxesSubplot object at 0x114c92590>]], dtype=object)"
       ]
      },
      {
       "metadata": {},
       "output_type": "display_data",
       "png": "[encoded data removed]",
       "text": [
        "<matplotlib.figure.Figure at 0x10ede5690>"
       ]
      }
     ],
     "prompt_number": 92
    },
    {
     "cell_type": "markdown",
     "metadata": {},
     "source": [
      "# Working on the command line\n",
      "\n",
      "Now we will discuss working on the command line. For this section and the next section on git and GitHub we will use slides from the [Data Science Specialization](https://github.com/DataScienceSpecialization/courses/tree/master/01_DataScientistToolbox) course on Coursera.  These slides are available from \n",
      "\n",
      "* [Command line interface](https://github.com/DataScienceSpecialization/courses/tree/master/01_DataScientistToolbox/02_03_commandLineInterface) \n"
     ]
    },
    {
     "cell_type": "markdown",
     "metadata": {},
     "source": [
      "# Introduction to git and GitHub\n",
      "\n",
      "Next we introduce git and GitHub. For this section we will also use slides from [Data Science Specialization](https://github.com/DataScienceSpecialization/courses/tree/master/01_DataScientistToolbox) course on Coursera.  These slides are available from \n",
      "\n",
      "* [Introduction to git](https://github.com/DataScienceSpecialization/courses/tree/master/01_DataScientistToolbox/02_04_01_introToGit) \n",
      "* [Github](https://github.com/DataScienceSpecialization/courses/tree/master/01_DataScientistToolbox/02_05_github)\n",
      "* [Create a new repo](https://github.com/DataScienceSpecialization/courses/tree/master/01_DataScientistToolbox/02_06_01_createNewRepo)\n",
      "* [Fork a repository](https://github.com/DataScienceSpecialization/courses/tree/master/01_DataScientistToolbox/02_06_02_forkRepo)\n",
      "* [Basic git commands](https://github.com/DataScienceSpecialization/courses/tree/master/01_DataScientistToolbox/02_07_01_basicGitCommands)\n",
      "* [git workflow](https://github.com/DataScienceSpecialization/courses/tree/master/01_DataScientistToolbox/02_07_02_gitWorkflow)\n",
      "\n",
      "Other useful resources for learning git and github: \n",
      "* [Interactive tutorial to learn git (only takes under 15 mins to complete!)](https://try.github.io/levels/1/challenges/1)\n",
      "* [Github guides](https://guides.github.com)\n",
      "* [git - the simple guide](http://rogerdudler.github.io/git-guide/)\n",
      "* [Github Youtube videos](https://www.youtube.com/user/GitHubGuides)"
     ]
    },
    {
     "cell_type": "markdown",
     "metadata": {},
     "source": [
      "# Your turn\n",
      "\n",
      "* If you don't have a github account yet, [register for a github account](https://github.com/join)\n",
      "* Use `git clone` to clone the [CS109 2014 course repository](https://github.com/cs109/2014) on Github\n",
      "* Use `git clone` to clone the [CS109 2014 data repository](https://github.com/cs109/2014_data) on Github\n",
      "\n"
     ]
    },
    {
     "cell_type": "code",
     "collapsed": false,
     "input": [],
     "language": "python",
     "metadata": {},
     "outputs": []
    }
   ],
   "metadata": {}
  }
 ]
}